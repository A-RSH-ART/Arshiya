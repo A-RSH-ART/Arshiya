{
  "nbformat": 4,
  "nbformat_minor": 0,
  "metadata": {
    "colab": {
      "provenance": [],
      "include_colab_link": true
    },
    "kernelspec": {
      "name": "python3",
      "display_name": "Python 3"
    },
    "language_info": {
      "name": "python"
    }
  },
  "cells": [
    {
      "cell_type": "markdown",
      "metadata": {
        "id": "view-in-github",
        "colab_type": "text"
      },
      "source": [
        "<a href=\"https://colab.research.google.com/github/A-RSH-ART/Arshiya/blob/main/python_basics_1.ipynb\" target=\"_parent\"><img src=\"https://colab.research.google.com/assets/colab-badge.svg\" alt=\"Open In Colab\"/></a>"
      ]
    },
    {
      "cell_type": "markdown",
      "source": [
        "1. What is Python ,and why is it popular?\n",
        "       \n",
        "       --> Python is high-level ,interpreted programming languuage known for its simplicity ,readability,and versatility.It is popular due to its ease of use,extensive libraries,and large community support.\n",
        "\n",
        " 2. What is an interpreter in Python?\n",
        "       \n",
        "        --> An interpreter in Python is a program that directly executes Python code line by line,translating it into machine code at runtime.\n",
        "\n",
        " 3. What are pre-defined keywords in Python?\n",
        "      \n",
        "       -->Pre-defined keywords in python are reserved words that have special meanings and cannot be used as variable names.Examples include if,else,for,while etc.\n",
        "\n",
        " 4. Can keywords be used as a variable names?\n",
        "      \n",
        "       --> No,keywords can not be used as variable names becouse they are reserved for specific purposes in the language.\n",
        "\n",
        " 5.What is mutability in Python?\n",
        "    \n",
        "      -->Mutability refers to the ability of an object to change its state after it is created. In Python ,lists and dictionaries are mutable,while string and tuples are immutable.\n",
        "\n",
        "\n",
        " 6.Why are lists mutable, but tuples are immutable?\n",
        "     \n",
        "      -->Lists are mutable becouse they are designed to be modified the elements in the list can be added or removed.Tuplesare immutable becouse they are intended to represent a collection of objects that should not change.\n",
        "\n",
        "  7. What is the difference between \"==\" and \"is\" operators in Python?\n",
        "      \n",
        "        -->The == operator checks for equality in value , while the \"is\" operator checks for identity, i.e whether both variables point to the same object in memory.\n",
        "\n",
        "  8. What are logical operators in Python?\n",
        "       \n",
        "        -->Logical operators in python include and,or & not,which are used to combine conditional statements.\n",
        "\n",
        "  9. What is type casting in Python?\n",
        "       \n",
        "        -->Type casting is the process of converting an object from one data type to another.Python supports both implicit and explicit typecasting.\n",
        "\n",
        "  10. What is difference between implicit and explicit type casting?\n",
        "       \n",
        "        -->Implicit type casting is automatically done by Python when it can safely convert one type to another (e.g , integer to float ).Explicit type casting is done manually by the programmer using functions like int() ,float(), etc.\n",
        "\n",
        "\n",
        "  11. What is purpose of conditional statements in Python?\n",
        "       \n",
        "        -->Conditional statements(if,elif,else)are used to execute different blocks of code based on certain conditions.\n",
        "\n",
        "\n",
        "  12. How does the elif statement work?\n",
        "       \n",
        "         -->The elif statement is used to check another condition if the initial if condition is false.It allows for multiple conditions to be checked in sequence.\n",
        "\n",
        "\n",
        "  13. What is the difference between for and while loops?\n",
        "      \n",
        "       -->A for loop is used to iterate over a sequence like a list or string and execute block of code for each item. A while loop continues to execute a block of code as long as a certain condition is true.\n",
        "\n",
        "\n",
        "  14. Describe a scenario where a while loop is more suitable than a for loop.\n",
        "        \n",
        "         -->A while loop is more suitable when the number of iterations is not known in advance , such as when reading input from a user until a certain condition is met , or when implementing a game loop that continues until the game is over.\n"
      ],
      "metadata": {
        "id": "42g5Cjvp24yE"
      }
    },
    {
      "cell_type": "markdown",
      "source": [],
      "metadata": {
        "id": "Icxgyj52NZTl"
      }
    },
    {
      "cell_type": "markdown",
      "source": [],
      "metadata": {
        "id": "eyKA7Tq1Mnxv"
      }
    },
    {
      "cell_type": "code",
      "source": [
        "#Q.1) Write a Python program to print \"Hello, World!\"\n",
        "print(\"Hello, World!\")"
      ],
      "metadata": {
        "colab": {
          "base_uri": "https://localhost:8080/"
        },
        "id": "0tRFXG4Fhz84",
        "outputId": "ba5970e7-e39e-4696-80e3-882d620a1b64"
      },
      "execution_count": null,
      "outputs": [
        {
          "output_type": "stream",
          "name": "stdout",
          "text": [
            "Hello, World!\n"
          ]
        }
      ]
    },
    {
      "cell_type": "markdown",
      "source": [],
      "metadata": {
        "id": "0dNJbgCzTW2w"
      }
    },
    {
      "cell_type": "code",
      "execution_count": null,
      "metadata": {
        "id": "QQWMP71o2xna",
        "colab": {
          "base_uri": "https://localhost:8080/"
        },
        "outputId": "b999bda8-0b50-43ed-9885-08a54a1504d6"
      },
      "outputs": [
        {
          "output_type": "stream",
          "name": "stdout",
          "text": [
            "Enter your name:name\n",
            "Enter your age25\n",
            "Name:name\n",
            "Age:age\n"
          ]
        }
      ],
      "source": [
        "# Q.2)Write a Python program that displays your name and age.\n",
        "name = input(\"Enter your name:\")\n",
        "age = int(input(\"Enter your age\"))\n",
        "print(\"Name:\" \"name\")\n",
        "print(\"Age:\" \"age\")\n",
        "\n"
      ]
    },
    {
      "cell_type": "markdown",
      "source": [],
      "metadata": {
        "id": "c-ZmOO5f2ywU"
      }
    },
    {
      "cell_type": "code",
      "source": [
        "# Q.3) Write a code to print all the pre-defined keywords in Python using the keyword library.\n",
        "import keyword\n",
        "print(keyword.kwlist)\n",
        "#or other method is print(\"keyword\")\n"
      ],
      "metadata": {
        "colab": {
          "base_uri": "https://localhost:8080/"
        },
        "id": "dlmYo6_0l-7x",
        "outputId": "2a255f34-e7f5-4f26-ba92-7b64b3b43883"
      },
      "execution_count": null,
      "outputs": [
        {
          "output_type": "stream",
          "name": "stdout",
          "text": [
            "['False', 'None', 'True', 'and', 'as', 'assert', 'async', 'await', 'break', 'class', 'continue', 'def', 'del', 'elif', 'else', 'except', 'finally', 'for', 'from', 'global', 'if', 'import', 'in', 'is', 'lambda', 'nonlocal', 'not', 'or', 'pass', 'raise', 'return', 'try', 'while', 'with', 'yield']\n"
          ]
        }
      ]
    },
    {
      "cell_type": "code",
      "source": [
        "# Q.4)Write a program that checks if a given word is a python keyword.\n",
        "import keyword\n",
        "word = input(\"Enter a word:\")\n",
        "if keyword.iskeyword(word):\n",
        "    print(f\"{word}'is a python keyword.\")\n",
        "else:\n",
        "      print(f\"{word}'is not a python keyword.\")\n",
        "\n"
      ],
      "metadata": {
        "colab": {
          "base_uri": "https://localhost:8080/"
        },
        "id": "OxMxk5bEm5aK",
        "outputId": "3f80c3a8-32fc-4db8-c43f-dc99ab5951d5"
      },
      "execution_count": null,
      "outputs": [
        {
          "output_type": "stream",
          "name": "stdout",
          "text": [
            "Enter a word:break\n",
            "break'is a python keyword.\n"
          ]
        }
      ]
    },
    {
      "cell_type": "code",
      "source": [
        " # Q.5)Create a list and a tuple in Python and demonstrate how attempting to change an element works differently for each.\n",
        " my_list = [1,2,3]\n",
        " my_tuple = (1,2,3)\n",
        " my_list[0] = 10\n",
        " print(my_list)\n",
        " # my_tuple[0] = 10 # This line causes a TypeError because tuples are immutable\n",
        " print(my_tuple)"
      ],
      "metadata": {
        "colab": {
          "base_uri": "https://localhost:8080/",
          "height": 211
        },
        "id": "Nvc1msmEofGi",
        "outputId": "e8f1e0b3-c829-4951-8da7-50127da41eea"
      },
      "execution_count": null,
      "outputs": [
        {
          "output_type": "stream",
          "name": "stdout",
          "text": [
            "[10, 2, 3]\n"
          ]
        },
        {
          "output_type": "error",
          "ename": "TypeError",
          "evalue": "'tuple' object does not support item assignment",
          "traceback": [
            "\u001b[0;31m---------------------------------------------------------------------------\u001b[0m",
            "\u001b[0;31mTypeError\u001b[0m                                 Traceback (most recent call last)",
            "\u001b[0;32m<ipython-input-21-1388142132>\u001b[0m in \u001b[0;36m<cell line: 0>\u001b[0;34m()\u001b[0m\n\u001b[1;32m      4\u001b[0m \u001b[0mmy_list\u001b[0m\u001b[0;34m[\u001b[0m\u001b[0;36m0\u001b[0m\u001b[0;34m]\u001b[0m \u001b[0;34m=\u001b[0m \u001b[0;36m10\u001b[0m\u001b[0;34m\u001b[0m\u001b[0;34m\u001b[0m\u001b[0m\n\u001b[1;32m      5\u001b[0m \u001b[0mprint\u001b[0m\u001b[0;34m(\u001b[0m\u001b[0mmy_list\u001b[0m\u001b[0;34m)\u001b[0m\u001b[0;34m\u001b[0m\u001b[0;34m\u001b[0m\u001b[0m\n\u001b[0;32m----> 6\u001b[0;31m \u001b[0mmy_tuple\u001b[0m\u001b[0;34m[\u001b[0m\u001b[0;36m0\u001b[0m\u001b[0;34m]\u001b[0m \u001b[0;34m=\u001b[0m \u001b[0;36m10\u001b[0m\u001b[0;34m\u001b[0m\u001b[0;34m\u001b[0m\u001b[0m\n\u001b[0m\u001b[1;32m      7\u001b[0m \u001b[0mprint\u001b[0m\u001b[0;34m(\u001b[0m\u001b[0mmy_tuple\u001b[0m\u001b[0;34m)\u001b[0m\u001b[0;34m\u001b[0m\u001b[0;34m\u001b[0m\u001b[0m\n",
            "\u001b[0;31mTypeError\u001b[0m: 'tuple' object does not support item assignment"
          ]
        }
      ]
    },
    {
      "cell_type": "code",
      "source": [
        "# Q.6) Write function to demonstrate  the behavior of mutable and immutable arguments.\n",
        "def modify_list(my_list):\n",
        "    my_list.append(4)\n",
        "    print(\"inside function:\",my_list)\n",
        "\n",
        "    my_list = [1,2,3]\n",
        "    print(\"outside function:\",my_list)\n",
        "    modify_list(my_list)\n",
        "    print(\"often function call:\",my_list)\n",
        "\n"
      ],
      "metadata": {
        "id": "a1R4WBRzowuz"
      },
      "execution_count": null,
      "outputs": []
    },
    {
      "cell_type": "code",
      "source": [
        "# Q.7) Write a program that performs basic arithematic operations on two user-input numbers.\n",
        "num1 = float(input(\"Enter the first number:\"))\n",
        "num2 = float(input(\"Enter the second number:\"))\n",
        "addition = num1 + num2\n",
        "subtraction = num1 -num2\n",
        "multiplication = num1 * num2\n",
        "division = num1 / num2\n",
        "print(\"Addition:\",addition)\n",
        "print(\"Subtraction:\",subtraction)\n",
        "print(\"Multiplication:\",multiplication)\n",
        "print(\"Division:\",division)\n"
      ],
      "metadata": {
        "colab": {
          "base_uri": "https://localhost:8080/"
        },
        "id": "JnW7EoZRprrZ",
        "outputId": "a46d3474-c7c9-42fd-914b-260dbb379c31"
      },
      "execution_count": null,
      "outputs": [
        {
          "output_type": "stream",
          "name": "stdout",
          "text": [
            "Enter the first number:8\n",
            "Enter the second number:7\n",
            "Addition: 15.0\n",
            "Subtraction: 1.0\n",
            "Multiplication: 56.0\n",
            "Division: 1.1428571428571428\n"
          ]
        }
      ]
    },
    {
      "cell_type": "code",
      "source": [
        "# Q.8) Write a program to demonstrate the use of logical operators.\n",
        "a = True\n",
        "b = False\n",
        "print(\"Logical AND:\",a and b)\n",
        "print(\"Logical OR:\",a or b)\n",
        "print(\"Logical NOT:\", not a)\n"
      ],
      "metadata": {
        "colab": {
          "base_uri": "https://localhost:8080/"
        },
        "id": "RtQvnSEustFi",
        "outputId": "c4ba2fa3-7e29-435b-82d3-7ec66f5fc986"
      },
      "execution_count": null,
      "outputs": [
        {
          "output_type": "stream",
          "name": "stdout",
          "text": [
            "Logical AND: False\n",
            "Logical OR: True\n",
            "Logical NOT: False\n"
          ]
        }
      ]
    },
    {
      "cell_type": "code",
      "source": [
        "  # Q.9)Write a Python program to convert user input from string to integer, float, and boolean types.\n",
        "  input_str = input(\"Enter a value:\")\n",
        "  int_value = int(input_str)\n",
        "  float_value = float(input_str)\n",
        "  bool_value = bool(input_str)\n",
        "  print(\"Integer_value:\",int_value)\n",
        "  print(\"float_value:\",float_value)\n",
        "  print(\"Boollean_value:\",bool_value)\n"
      ],
      "metadata": {
        "id": "osogV4voRDV-",
        "outputId": "bad49262-5fe2-4522-b95b-907685fb9709",
        "colab": {
          "base_uri": "https://localhost:8080/"
        }
      },
      "execution_count": null,
      "outputs": [
        {
          "output_type": "stream",
          "name": "stdout",
          "text": [
            "Enter a value:9\n",
            "Integer_value: 9\n",
            "float_value: 9.0\n",
            "Boollean_value: True\n"
          ]
        }
      ]
    },
    {
      "cell_type": "code",
      "source": [
        "# Q.10) Write code to demonstrate type casting with list elements.\n",
        "my_list = [1,2,3]\n",
        "my_tuple = tuple(my_list)\n",
        "print(my_tuple)\n",
        "\n"
      ],
      "metadata": {
        "colab": {
          "base_uri": "https://localhost:8080/"
        },
        "id": "yK4W7JMXwHhQ",
        "outputId": "11805b06-05e0-455b-af5e-0dc22b539c82"
      },
      "execution_count": null,
      "outputs": [
        {
          "output_type": "stream",
          "name": "stdout",
          "text": [
            "(1, 2, 3)\n"
          ]
        }
      ]
    },
    {
      "cell_type": "code",
      "source": [
        "# Q.11)Write a program that checks if a number is positive ,negative,or zero.\n",
        "num = float(input(\"Enter a number:\"))\n",
        "if num > 0:\n",
        "    print(\"The number is positive\")\n",
        "    elif num < 0:\n",
        "      print(\"The number is negative\")\n",
        "      else:\n",
        "        print(\"The number is zero\")\n",
        "\n"
      ],
      "metadata": {
        "colab": {
          "base_uri": "https://localhost:8080/"
        },
        "id": "3rKFnh-ox1H9",
        "outputId": "3d829126-7f33-4c04-88e9-9d4e7f2ed6f2"
      },
      "execution_count": null,
      "outputs": [
        {
          "output_type": "stream",
          "name": "stdout",
          "text": [
            "Enter a number:15\n",
            "The number is positive\n"
          ]
        }
      ]
    },
    {
      "cell_type": "code",
      "source": [
        "# Q.12) Write a for loop to print numbers from 1 to 10.\n",
        "for i in range(1,11):\n",
        "  print(i)\n",
        "\n",
        "\n",
        "\n"
      ],
      "metadata": {
        "colab": {
          "base_uri": "https://localhost:8080/"
        },
        "id": "lb222rZvx1pR",
        "outputId": "46740d7d-63ed-4e55-87ae-b832b6aa56ee"
      },
      "execution_count": null,
      "outputs": [
        {
          "output_type": "stream",
          "name": "stdout",
          "text": [
            "1\n",
            "2\n",
            "3\n",
            "4\n",
            "5\n",
            "6\n",
            "7\n",
            "8\n",
            "9\n",
            "10\n"
          ]
        }
      ]
    },
    {
      "cell_type": "code",
      "source": [
        "# Q.13) Write a Python program to find the sum of all even numbers between 1 and 50.\n",
        "def sum_even_numbers(start, end):\n",
        "  total = 0\n",
        "  for num in range(start, end + 1):\n",
        "    if num % 2 == 0:\n",
        "      total += num\n",
        "  return total\n",
        "\n",
        "start_range = 1\n",
        "end_range = 50\n",
        "result = sum_even_numbers(start_range, end_range)\n",
        "print(f\"The sum of even numbers between {start_range} and {end_range} is: {result}\")"
      ],
      "metadata": {
        "id": "uc1IpXFB1pcl",
        "colab": {
          "base_uri": "https://localhost:8080/"
        },
        "outputId": "72eb5e76-405f-499f-e65e-e5013de14ff8"
      },
      "execution_count": null,
      "outputs": [
        {
          "output_type": "stream",
          "name": "stdout",
          "text": [
            "The sum of even numbers between 1 and 50 is: 650\n"
          ]
        }
      ]
    },
    {
      "cell_type": "code",
      "source": [
        "# Q.14) Write a program to reverse a string using a while loop.\n",
        "input_string = input(\"Enter a string:\")\n",
        "reversed_string = \"\"\n",
        "index = len(input_string) - 1\n",
        "while index >= 0:\n",
        "  reversed_string += input_string[index]\n",
        "  index -= 1\n",
        "  print(\"Reversed_string:\",reversed_string)"
      ],
      "metadata": {
        "id": "_Rl1arRX1K75",
        "colab": {
          "base_uri": "https://localhost:8080/"
        },
        "outputId": "8fc15ded-729d-4284-a8d6-e474f1d2a566"
      },
      "execution_count": null,
      "outputs": [
        {
          "output_type": "stream",
          "name": "stdout",
          "text": [
            "Enter a string:Arshiya\n",
            "Reversed_string: a\n",
            "Reversed_string: ay\n",
            "Reversed_string: ayi\n",
            "Reversed_string: ayih\n",
            "Reversed_string: ayihs\n",
            "Reversed_string: ayihsr\n",
            "Reversed_string: ayihsrA\n"
          ]
        }
      ]
    },
    {
      "cell_type": "code",
      "source": [
        "# Q.15)Write a Python program to calculate the factorial of a number provided by the user using a while loop.\n",
        "def factorial(n):\n",
        "  result = 1\n",
        "  while n > 0:\n",
        "    result *= n\n",
        "    n -=1\n",
        "    return result\n",
        "    number = int(input(\"Entr a number: \"))\n",
        "    fact = factorial(number)\n",
        "    print(f\"The factorial of{number} is: {fact}\")\n",
        "\n"
      ],
      "metadata": {
        "id": "XLP4Y6t1XhSa"
      },
      "execution_count": null,
      "outputs": []
    },
    {
      "cell_type": "markdown",
      "source": [],
      "metadata": {
        "id": "D7Z9T4wZOSfn"
      }
    }
  ]
}